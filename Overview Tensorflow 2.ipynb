{
 "cells": [
  {
   "cell_type": "markdown",
   "id": "42914a10",
   "metadata": {},
   "source": [
    "# Modules, Layers, and models "
   ]
  },
  {
   "cell_type": "code",
   "execution_count": 2,
   "id": "c6dcbf9f",
   "metadata": {},
   "outputs": [],
   "source": [
    "import tensorflow as tf"
   ]
  },
  {
   "cell_type": "markdown",
   "id": "8951eb27",
   "metadata": {},
   "source": [
    "- `tf.Module` class manages `tf.Variable` objects and their values as well as the `tf.function` objects that operates over them.\n",
    "- this classes enables exporting of the the values of the Variable (using `tf.train.Checkpoint`) and the graph"
   ]
  },
  {
   "cell_type": "markdown",
   "id": "fbca7894",
   "metadata": {},
   "source": [
    "- save and restore the values of your variables using `tf.train.Checkpoint`. This is useful during training as it is quick to save and restore a model's state.\n",
    "- import and export the `tf.Variable` values and the `tf.function` graphs using `tf.saved_model`. This allows you to run your model independently of the Python program that created it."
   ]
  },
  {
   "cell_type": "code",
   "execution_count": 3,
   "id": "a7cb94d7",
   "metadata": {},
   "outputs": [],
   "source": [
    "class MyModule(tf.Module):\n",
    "    def __init__(self, value):\n",
    "        self.weight = tf.Variable(value)\n",
    "    \n",
    "    @tf.function\n",
    "    def multiply(self, x):\n",
    "        return x*self.weight\n",
    "    "
   ]
  },
  {
   "cell_type": "code",
   "execution_count": 12,
   "id": "5cc1a146",
   "metadata": {},
   "outputs": [
    {
     "name": "stderr",
     "output_type": "stream",
     "text": [
      "2023-07-08 18:47:11.230243: I tensorflow/core/grappler/optimizers/custom_graph_optimizer_registry.cc:114] Plugin optimizer for device_type GPU is enabled.\n"
     ]
    },
    {
     "data": {
      "text/plain": [
       "<tf.Tensor: shape=(2, 3), dtype=int32, numpy=\n",
       "array([[2, 4, 6],\n",
       "       [2, 4, 6]], dtype=int32)>"
      ]
     },
     "execution_count": 12,
     "metadata": {},
     "output_type": "execute_result"
    }
   ],
   "source": [
    "mod = MyModule([[1,2,3],[1,2,3]])\n",
    "mod.multiply(tf.constant(2))"
   ]
  },
  {
   "cell_type": "code",
   "execution_count": 13,
   "id": "9452a532",
   "metadata": {
    "scrolled": true
   },
   "outputs": [
    {
     "name": "stdout",
     "output_type": "stream",
     "text": [
      "INFO:tensorflow:Assets written to: ./other_files/assets\n"
     ]
    }
   ],
   "source": [
    "save_path = './other_files/module_0'\n",
    "tf.saved_model.save(mod, save_path)"
   ]
  },
  {
   "cell_type": "code",
   "execution_count": 14,
   "id": "c1a452da",
   "metadata": {},
   "outputs": [],
   "source": [
    "saved_path = './other_files/module_0'\n",
    "\n",
    "reloaded_mod = tf.saved_model.load(saved_path)"
   ]
  },
  {
   "cell_type": "code",
   "execution_count": 16,
   "id": "099444ef",
   "metadata": {},
   "outputs": [
    {
     "name": "stderr",
     "output_type": "stream",
     "text": [
      "2023-07-08 18:57:58.642187: I tensorflow/core/grappler/optimizers/custom_graph_optimizer_registry.cc:114] Plugin optimizer for device_type GPU is enabled.\n"
     ]
    },
    {
     "data": {
      "text/plain": [
       "<tf.Tensor: shape=(2, 3), dtype=int32, numpy=\n",
       "array([[2, 4, 6],\n",
       "       [2, 4, 6]], dtype=int32)>"
      ]
     },
     "execution_count": 16,
     "metadata": {},
     "output_type": "execute_result"
    }
   ],
   "source": [
    "reloaded_mod.multiply(2)"
   ]
  },
  {
   "cell_type": "markdown",
   "id": "c6922705",
   "metadata": {},
   "source": [
    "- The `tf.keras.layers.Layer` and `tf.keras.Model` classes build on `tf.Module` providing additional functionality and convenience methods for building, training, and saving models."
   ]
  }
 ],
 "metadata": {
  "kernelspec": {
   "display_name": "Python 3 (ipykernel)",
   "language": "python",
   "name": "python3"
  },
  "language_info": {
   "codemirror_mode": {
    "name": "ipython",
    "version": 3
   },
   "file_extension": ".py",
   "mimetype": "text/x-python",
   "name": "python",
   "nbconvert_exporter": "python",
   "pygments_lexer": "ipython3",
   "version": "3.10.9"
  }
 },
 "nbformat": 4,
 "nbformat_minor": 5
}
