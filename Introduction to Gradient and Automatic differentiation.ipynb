{
 "cells": [
  {
   "cell_type": "markdown",
   "id": "34779862",
   "metadata": {},
   "source": [
    "# Introduction to Gradient and Automatic differentiation"
   ]
  },
  {
   "cell_type": "code",
   "execution_count": 2,
   "id": "8844a5ca",
   "metadata": {},
   "outputs": [],
   "source": [
    "#setup\n",
    "import tensorflow as tf\n",
    "import matplotlib.pyplot as plt\n",
    "import numpy as np"
   ]
  },
  {
   "cell_type": "markdown",
   "id": "5e273308",
   "metadata": {},
   "source": [
    "# Gradient tapes\n",
    "TensorFlow provides the `tf.GradientTape` API for automatic differentiation; that is, computing the gradient of a computation with respect to some inputs, usually `tf.Variables`. TensorFlow __\"records\"__ relevant operations executed inside the context of a `tf.GradientTape` onto a __\"tape\"__. TensorFlow then uses that tape to compute the gradients of a \"recorded\" computation using reverse mode differentiation."
   ]
  },
  {
   "cell_type": "code",
   "execution_count": 16,
   "id": "d3c722ed",
   "metadata": {},
   "outputs": [],
   "source": [
    "x = tf.Variable(3.0)\n",
    "\n",
    "with tf.GradientTape() as tape:\n",
    "  y = x**2"
   ]
  },
  {
   "cell_type": "markdown",
   "id": "84997eea",
   "metadata": {},
   "source": [
    "- `tape.gradient(y, x)` computes the gradient descent of `y` over/with respect to `x`\n",
    "- that is to say, gradient tells us how the value of a y changes as the value of x changes.\n",
    "    - the gradient is positive for uphill ascent\n",
    "    - the gradient is negative for downhil descent\n",
    "    - the gradient value is zero for a minima or a maxima\n",
    "    - the gradient is larger for steaper ascent/descent\n",
    "    - the gradient is smaller for laid down ascent/descent\n",
    "- the value of dy/dx for a given x tells the gradient at the given input x."
   ]
  },
  {
   "cell_type": "code",
   "execution_count": 17,
   "id": "090f1548",
   "metadata": {},
   "outputs": [
    {
     "data": {
      "text/plain": [
       "6.0"
      ]
     },
     "execution_count": 17,
     "metadata": {},
     "output_type": "execute_result"
    }
   ],
   "source": [
    "dy_dx = tape.gradient(y, x)\n",
    "dy_dx.numpy()"
   ]
  },
  {
   "cell_type": "markdown",
   "id": "134bb284",
   "metadata": {},
   "source": [
    "The above example uses scalars, but tf.GradientTape works as easily on any tensor:"
   ]
  },
  {
   "cell_type": "code",
   "execution_count": 21,
   "id": "2d7faf54",
   "metadata": {},
   "outputs": [],
   "source": [
    "w = tf.Variable(tf.random.normal((3, 2)), name='w')\n",
    "b = tf.Variable(tf.zeros(2, dtype=tf.float32), name='b')\n",
    "x = [[1., 2., 3.]]\n",
    "\n",
    "with tf.GradientTape(persistent=True) as tape:\n",
    "  y = x @ w + b\n",
    "  loss = tf.reduce_mean(y**2)"
   ]
  },
  {
   "cell_type": "code",
   "execution_count": 22,
   "id": "6ff0305e",
   "metadata": {},
   "outputs": [
    {
     "name": "stdout",
     "output_type": "stream",
     "text": [
      "[[ -1.616528  -3.399956]\n",
      " [ -3.233056  -6.799912]\n",
      " [ -4.849584 -10.199868]]\n",
      "[-1.616528 -3.399956]\n"
     ]
    }
   ],
   "source": [
    "[d1_dw, d1_db] = tape.gradient(loss, [w, b])\n",
    "\n",
    "print(d1_dw.numpy())\n",
    "print(d1_db.numpy())"
   ]
  },
  {
   "cell_type": "code",
   "execution_count": 23,
   "id": "d51347d5",
   "metadata": {},
   "outputs": [
    {
     "name": "stdout",
     "output_type": "stream",
     "text": [
      "(3, 2)\n"
     ]
    }
   ],
   "source": [
    "print(w.shape)"
   ]
  },
  {
   "cell_type": "code",
   "execution_count": 24,
   "id": "92829520",
   "metadata": {},
   "outputs": [
    {
     "name": "stdout",
     "output_type": "stream",
     "text": [
      "(3, 2)\n"
     ]
    }
   ],
   "source": [
    "print(d1_dw.shape)"
   ]
  },
  {
   "cell_type": "code",
   "execution_count": 25,
   "id": "4d974e43",
   "metadata": {},
   "outputs": [
    {
     "name": "stdout",
     "output_type": "stream",
     "text": [
      "(2,)\n",
      "(2,)\n"
     ]
    }
   ],
   "source": [
    "print(b.shape)\n",
    "print(d1_db.shape)"
   ]
  },
  {
   "cell_type": "code",
   "execution_count": 26,
   "id": "82ae0a93",
   "metadata": {},
   "outputs": [
    {
     "data": {
      "text/plain": [
       "<tf.Tensor: shape=(2,), dtype=float32, numpy=array([-1.616528, -3.399956], dtype=float32)>"
      ]
     },
     "execution_count": 26,
     "metadata": {},
     "output_type": "execute_result"
    }
   ],
   "source": [
    "my_vars = {\n",
    "    'w': w,\n",
    "    'b': b\n",
    "}\n",
    "\n",
    "grad = tape.gradient(loss, my_vars)\n",
    "grad['b']"
   ]
  },
  {
   "cell_type": "markdown",
   "id": "fdf5f026",
   "metadata": {},
   "source": [
    "## Gradient with respect to a model "
   ]
  },
  {
   "cell_type": "markdown",
   "id": "a8539f60",
   "metadata": {},
   "source": [
    "It's common to collect `tf.Variables` into a `tf.Module` or one of its subclasses (`layers.Layer`, `keras.Model`) for _checkpointing_ and _exporting_."
   ]
  },
  {
   "cell_type": "markdown",
   "id": "b69e2655",
   "metadata": {},
   "source": [
    "all subclasses of `tf.Module` aggregate their variables in the `Module.trainable_variables`"
   ]
  },
  {
   "cell_type": "code",
   "execution_count": 34,
   "id": "e07195a0",
   "metadata": {},
   "outputs": [],
   "source": [
    "layer = tf.keras.layers.Dense(2, activation='relu')\n",
    "x = tf.constant([[3., 5., 1.]])\n",
    "\n",
    "with tf.GradientTape() as tape:\n",
    "    y = layer(x)\n",
    "    loss = tf.reduce_mean(y**2)\n",
    "\n",
    "grads = tape.gradient(loss, layer.variables)"
   ]
  },
  {
   "cell_type": "code",
   "execution_count": 38,
   "id": "5e2ae5dc",
   "metadata": {},
   "outputs": [
    {
     "name": "stdout",
     "output_type": "stream",
     "text": [
      "dense_5/kernel:0, shape: (3, 2)\n",
      "dense_5/bias:0, shape: (2,)\n"
     ]
    }
   ],
   "source": [
    "for var, g in zip(layer.trainable_variables, grads):\n",
    "  print(f'{var.name}, shape: {g.shape}')"
   ]
  },
  {
   "cell_type": "markdown",
   "id": "2a1a89fd",
   "metadata": {},
   "source": [
    "##  Controlling what the tape watches"
   ]
  },
  {
   "cell_type": "markdown",
   "id": "bdbd44cc",
   "metadata": {},
   "source": [
    "- The tape needs to watch every operation in the forward pass in order to register all the neccessary operations for backpropagation.\n",
    "- The tape also holds references to the intermediate operations"
   ]
  },
  {
   "cell_type": "code",
   "execution_count": 39,
   "id": "c7442523",
   "metadata": {},
   "outputs": [],
   "source": [
    "#the following case will fail (give None gradient) because x_1 is set to be `untrainable` while x_3 is not watched\n",
    "# a trainable variable\n",
    "x_0 = tf.Variable(3., name='x0')\n",
    "\n",
    "# variable not trainable\n",
    "x_1 = tf.Variable(4., name='x1', trainable=False)\n",
    "\n",
    "# not a variable: variable+tensor/scaler returns a tensor\n",
    "x_2 = tf.Variable(1., name='x2') + 1.0\n",
    "\n",
    "# not a variable\n",
    "x_3 = tf.constant(0., name='x3')\n",
    "\n",
    "with tf.GradientTape() as tape:\n",
    "    y = (x_0**2) + x_1**2 + x_2**2\n",
    "\n",
    "grad = tape.gradient(y, [x_0, x_1, x_2, x_3])\n"
   ]
  },
  {
   "cell_type": "code",
   "execution_count": 40,
   "id": "69ff837f",
   "metadata": {},
   "outputs": [
    {
     "name": "stdout",
     "output_type": "stream",
     "text": [
      "tf.Tensor(6.0, shape=(), dtype=float32)\n",
      "None\n",
      "None\n",
      "None\n"
     ]
    }
   ],
   "source": [
    "for g in grad:\n",
    "  print(g)"
   ]
  },
  {
   "cell_type": "code",
   "execution_count": 42,
   "id": "330a864c",
   "metadata": {},
   "outputs": [
    {
     "data": {
      "text/plain": [
       "['x0:0']"
      ]
     },
     "execution_count": 42,
     "metadata": {},
     "output_type": "execute_result"
    }
   ],
   "source": [
    "# Variables watched by the tape can be listed by using watched_variables function\n",
    "[var.name for var in tape.watched_variables()]"
   ]
  },
  {
   "cell_type": "code",
   "execution_count": 46,
   "id": "8fe87e9a",
   "metadata": {},
   "outputs": [
    {
     "name": "stdout",
     "output_type": "stream",
     "text": [
      "6.0\n",
      "[]\n"
     ]
    }
   ],
   "source": [
    "# users can control what the tape can watch using the `watch` hook provided in the GradientTape\n",
    "\n",
    "x = tf.constant(3., name='x')\n",
    "with tf.GradientTape() as tape:\n",
    "    tape.watch(x) #let the tape watch the constant\n",
    "    y = x**2\n",
    "\n",
    "print(tape.gradient(y, x).numpy())\n",
    "print([var for var in tape.watched_variables()]) #since x is not a variable it is NOT shown in this list"
   ]
  },
  {
   "cell_type": "code",
   "execution_count": 57,
   "id": "5731878a",
   "metadata": {},
   "outputs": [
    {
     "name": "stdout",
     "output_type": "stream",
     "text": [
      "dy/dx0: None\n",
      "dy/dx1: 0.9999546\n"
     ]
    }
   ],
   "source": [
    "# default behaviour of watching all variables could be turned off\n",
    "x0 = tf.Variable(0.0)\n",
    "x1 = tf.Variable(10.0)\n",
    "\n",
    "with tf.GradientTape(watch_accessed_variables=False) as tape:\n",
    "    tape.watch(x1) #only x_0 is set to be watched: x_1 will not be watched by the tape\n",
    "    y0 = tf.math.sin(x0)\n",
    "    y1 = tf.nn.softplus(x1)\n",
    "    y = y0 + y1\n",
    "    ys = tf.reduce_sum(y)\n",
    "    \n",
    "# dys/dx1 = exp(x1) / (1 + exp(x1)) = sigmoid(x1)\n",
    "grad = tape.gradient(ys, {'x0': x0, 'x1': x1})\n",
    "\n",
    "print('dy/dx0:', grad['x0'])\n",
    "print('dy/dx1:', grad['x1'].numpy())"
   ]
  },
  {
   "cell_type": "markdown",
   "id": "918e9e3b",
   "metadata": {},
   "source": [
    "## Intermediate results"
   ]
  },
  {
   "cell_type": "code",
   "execution_count": 78,
   "id": "85856250",
   "metadata": {},
   "outputs": [
    {
     "data": {
      "text/plain": [
       "<tf.Tensor: shape=(), dtype=float32, numpy=18.0>"
      ]
     },
     "execution_count": 78,
     "metadata": {},
     "output_type": "execute_result"
    }
   ],
   "source": [
    "x = tf.constant(3.0)\n",
    "\n",
    "with tf.GradientTape(persistent=True) as tape:\n",
    "    tape.watch(x)\n",
    "    y = x**2\n",
    "    z = y**2\n",
    "#computing the gradient of z with respect to the intermediat y\n",
    "\n",
    "tape.gradient(z, y)"
   ]
  },
  {
   "cell_type": "code",
   "execution_count": 79,
   "id": "6eb1cbac",
   "metadata": {},
   "outputs": [
    {
     "data": {
      "text/plain": [
       "<tf.Tensor: shape=(), dtype=float32, numpy=6.0>"
      ]
     },
     "execution_count": 79,
     "metadata": {},
     "output_type": "execute_result"
    }
   ],
   "source": [
    "#gradient of y with respect to x\n",
    "tape.gradient(y, x)"
   ]
  },
  {
   "cell_type": "code",
   "execution_count": 81,
   "id": "efdb9241",
   "metadata": {},
   "outputs": [
    {
     "data": {
      "text/plain": [
       "<tf.Tensor: shape=(), dtype=float32, numpy=108.0>"
      ]
     },
     "execution_count": 81,
     "metadata": {},
     "output_type": "execute_result"
    }
   ],
   "source": [
    "#gradient of z with respect to x=\n",
    "tape.gradient(z, x)"
   ]
  },
  {
   "cell_type": "code",
   "execution_count": 82,
   "id": "83ed7bcf",
   "metadata": {},
   "outputs": [],
   "source": [
    "del tape #manually release the resources held by the GradientTape"
   ]
  },
  {
   "cell_type": "markdown",
   "id": "392fcd9b",
   "metadata": {},
   "source": [
    "## Gradients of Non-Scalers\n",
    "- A gradient is fundamentally an operation on a scaler"
   ]
  },
  {
   "cell_type": "code",
   "execution_count": 83,
   "id": "e7c74976",
   "metadata": {},
   "outputs": [
    {
     "name": "stdout",
     "output_type": "stream",
     "text": [
      "4.0\n",
      "-0.25\n"
     ]
    }
   ],
   "source": [
    "x = tf.Variable(2.0)\n",
    "with tf.GradientTape(persistent=True) as tape:\n",
    "  y0 = x**2\n",
    "  y1 = 1 / x\n",
    "\n",
    "print(y0)\n",
    "print(tape.gradient(y0, x).numpy())\n",
    "print(tape.gradient(y1, x).numpy())"
   ]
  },
  {
   "cell_type": "markdown",
   "id": "337c2dde",
   "metadata": {},
   "source": [
    "Thus, if you ask for the gradient of multiple targets, the result for each source is:\n",
    "\n",
    "The gradient of the sum of the targets, or equivalently\n",
    "The sum of the gradients of each target."
   ]
  },
  {
   "cell_type": "code",
   "execution_count": 84,
   "id": "ff9feb25",
   "metadata": {},
   "outputs": [
    {
     "name": "stdout",
     "output_type": "stream",
     "text": [
      "3.75\n"
     ]
    }
   ],
   "source": [
    "x = tf.Variable(2.0)\n",
    "with tf.GradientTape() as tape:\n",
    "  y0 = x**2\n",
    "  y1 = 1 / x\n",
    "\n",
    "print(tape.gradient({'y0': y0, 'y1': y1}, x).numpy())"
   ]
  },
  {
   "cell_type": "markdown",
   "id": "b8e2bd3d",
   "metadata": {},
   "source": [
    "Similarly, if the target(s) are not scalar the gradient of the sum is calculated:"
   ]
  },
  {
   "cell_type": "code",
   "execution_count": 85,
   "id": "7fbb7de7",
   "metadata": {},
   "outputs": [
    {
     "name": "stdout",
     "output_type": "stream",
     "text": [
      "44.0\n"
     ]
    }
   ],
   "source": [
    "x = tf.Variable(2.)\n",
    "with tf.GradientTape() as tape:\n",
    "    y = x ** [3., 4.]\n",
    "print(tape.gradient(y, x).numpy())"
   ]
  },
  {
   "cell_type": "markdown",
   "id": "f920423c",
   "metadata": {},
   "source": [
    "This makes it simple to take the gradient of the sum of a collection of losses, or the gradient of the sum of an element-wise loss calculation."
   ]
  },
  {
   "cell_type": "code",
   "execution_count": 86,
   "id": "a6a5a020",
   "metadata": {},
   "outputs": [],
   "source": [
    "x = tf.linspace(-10.0, 10.0, 200+1)\n",
    "\n",
    "with tf.GradientTape() as tape:\n",
    "  tape.watch(x)\n",
    "  y = tf.nn.sigmoid(x)\n",
    "\n",
    "dy_dx = tape.gradient(y, x)"
   ]
  },
  {
   "cell_type": "code",
   "execution_count": 87,
   "id": "8175bfa0",
   "metadata": {},
   "outputs": [
    {
     "data": {
      "image/png": "[encoded data removed]",
      "text/plain": [
       "<Figure size 640x480 with 1 Axes>"
      ]
     },
     "metadata": {},
     "output_type": "display_data"
    }
   ],
   "source": [
    "plt.plot(x, y, label='y')\n",
    "plt.plot(x, dy_dx, label='dy/dx')\n",
    "plt.legend()\n",
    "_ = plt.xlabel('x')"
   ]
  },
  {
   "cell_type": "markdown",
   "id": "21b72e0d",
   "metadata": {},
   "source": [
    "## Cases where gradient returns None"
   ]
  },
  {
   "cell_type": "markdown",
   "id": "c1f4b924",
   "metadata": {},
   "source": [
    "- When a target is not connected to a source, gradient will return None."
   ]
  },
  {
   "cell_type": "code",
   "execution_count": 88,
   "id": "3c7215c0",
   "metadata": {},
   "outputs": [
    {
     "name": "stdout",
     "output_type": "stream",
     "text": [
      "None\n"
     ]
    }
   ],
   "source": [
    "x = tf.Variable(7.)\n",
    "y = tf.Variable(1.)\n",
    "\n",
    "with tf.GradientTape() as tape:\n",
    "    z = y**2\n",
    "\n",
    "print(tape.gradient(z, x)) # z(target) is not connected to the source(x) "
   ]
  },
  {
   "cell_type": "markdown",
   "id": "75721325",
   "metadata": {},
   "source": [
    "- Replaced a variable with a tensor"
   ]
  },
  {
   "cell_type": "code",
   "execution_count": 90,
   "id": "ad61152b",
   "metadata": {},
   "outputs": [
    {
     "name": "stdout",
     "output_type": "stream",
     "text": [
      "ResourceVariable : tf.Tensor(1.0, shape=(), dtype=float32)\n",
      "EagerTensor : None\n",
      "EagerTensor : None\n"
     ]
    }
   ],
   "source": [
    "x = tf.Variable(7.)\n",
    "\n",
    "for epoch in range(3):\n",
    "    with tf.GradientTape() as tape:\n",
    "        y = x+1\n",
    "    \n",
    "    print(type(x).__name__, ':', tape.gradient(y, x))\n",
    "    x = x+1 #should be x.assign_add(1)\n",
    "    # in an attempt to update the value of the variable x, it is no longer a tf.Variable thus not visible to tape\n",
    "    \n",
    "    "
   ]
  },
  {
   "cell_type": "markdown",
   "id": "e0bdbfde",
   "metadata": {},
   "source": [
    "- Did calculations outside of TensorFlow\n",
    "    \n",
    "    The tape can't record the gradient path if the calculation exits TensorFlow. For example:"
   ]
  },
  {
   "cell_type": "code",
   "execution_count": 91,
   "id": "85783d26",
   "metadata": {},
   "outputs": [
    {
     "name": "stdout",
     "output_type": "stream",
     "text": [
      "None\n"
     ]
    }
   ],
   "source": [
    "x = tf.Variable([[1.0, 2.0],\n",
    "                 [3.0, 4.0]], dtype=tf.float32)\n",
    "\n",
    "with tf.GradientTape() as tape:\n",
    "  x2 = x**2\n",
    "\n",
    "  # This step is calculated with NumPy\n",
    "  y = np.mean(x2, axis=0)\n",
    "\n",
    "  # Like most ops, reduce_mean will cast the NumPy array to a constant tensor\n",
    "  # using `tf.convert_to_tensor`.\n",
    "  y = tf.reduce_mean(y, axis=0)\n",
    "\n",
    "print(tape.gradient(y, x))"
   ]
  },
  {
   "cell_type": "markdown",
   "id": "0de8a5c5",
   "metadata": {},
   "source": [
    "- Took gradients through an integer or string\n",
    "\n",
    "Integers and strings are not differentiable. If a calculation path uses these data types there will be no gradient.\n",
    "\n",
    "Nobody expects strings to be differentiable, but it's easy to accidentally create an int constant or variable if you don't specify the dtype.\n"
   ]
  },
  {
   "cell_type": "code",
   "execution_count": 92,
   "id": "95b3aac3",
   "metadata": {},
   "outputs": [
    {
     "name": "stdout",
     "output_type": "stream",
     "text": [
      "WARNING:tensorflow:The dtype of the watched tensor must be floating (e.g. tf.float32), got tf.int32\n",
      "None\n"
     ]
    }
   ],
   "source": [
    "x = tf.constant(10)\n",
    "\n",
    "with tf.GradientTape() as g:\n",
    "  g.watch(x)\n",
    "  y = x * x\n",
    "\n",
    "print(g.gradient(y, x))"
   ]
  },
  {
   "cell_type": "markdown",
   "id": "755ad7ce",
   "metadata": {},
   "source": [
    "Took gradients through a stateful object\n",
    "\n",
    "State stops gradients. When you read from a stateful object, the tape can only observe the current state, not the history that lead to it.\n",
    "A `tf.Tensor` is immutable. You can't change a tensor once it's created. It has a value, but no state. All the operations discussed so far are also stateless: the output of a `tf.matmul` only depends on its inputs.\n",
    "\n",
    "A `tf.Variable` has internal state — its value. When you use the variable, the state is read. It's normal to calculate a gradient with respect to a variable, but the variable's state blocks gradient calculations from going farther back. For example:"
   ]
  },
  {
   "cell_type": "code",
   "execution_count": 93,
   "id": "5802d4a8",
   "metadata": {},
   "outputs": [
    {
     "name": "stdout",
     "output_type": "stream",
     "text": [
      "None\n"
     ]
    }
   ],
   "source": [
    "x0 = tf.Variable(3.0)\n",
    "x1 = tf.Variable(0.0)\n",
    "\n",
    "with tf.GradientTape() as tape:\n",
    "  # Update x1 = x1 + x0.\n",
    "  x1.assign_add(x0)\n",
    "  # The tape starts recording from x1.\n",
    "  y = x1**2   # y = (x1 + x0)**2\n",
    "\n",
    "# This doesn't work.\n",
    "print(tape.gradient(y, x0))   #dy/dx0 = 2*(x1 + x0)"
   ]
  },
  {
   "cell_type": "code",
   "execution_count": 96,
   "id": "f8cd1a7b",
   "metadata": {},
   "outputs": [
    {
     "name": "stdout",
     "output_type": "stream",
     "text": [
      "6.0\n"
     ]
    }
   ],
   "source": [
    "# This is how the above situation could be remedies\n",
    "x0 = tf.Variable(3.0)\n",
    "x1 = tf.Variable(0.0)\n",
    "\n",
    "with tf.GradientTape() as tape:\n",
    "    x1 = x1 + x0\n",
    "    y = x1**2   # y = (x1 + x0)**2\n",
    "\n",
    "# This works.\n",
    "print(tape.gradient(y, x0).numpy())   #dy/dx0 = 2*(x1 + x0)"
   ]
  },
  {
   "cell_type": "markdown",
   "id": "436df7c0",
   "metadata": {},
   "source": [
    "## No gradient registered "
   ]
  },
  {
   "cell_type": "markdown",
   "id": "07b4938b",
   "metadata": {},
   "source": [
    "Some `tf.Operations` are registered as being non-differentiable and will return `None`. Others have no gradient registered.\n",
    "\n",
    "The `tf.raw_ops` page shows which low-level ops have gradients registered.\n",
    "\n",
    "If you attempt to take a gradient through a `float` op that has no gradient registered the tape will throw an error instead of silently returning `None`. This way you know something has gone wrong.\n",
    "\n",
    "For example, the `tf.image.adjust_contrast` function wraps `raw_ops.AdjustContrastv2`, which could have a gradient but the gradient is not implemented:"
   ]
  },
  {
   "cell_type": "code",
   "execution_count": 98,
   "id": "39a69b97",
   "metadata": {},
   "outputs": [
    {
     "name": "stdout",
     "output_type": "stream",
     "text": [
      "LookupError: gradient registry has no entry for: AdjustContrastv2\n"
     ]
    }
   ],
   "source": [
    "image = tf.Variable([[[0.5, 0.0, 0.0]]])\n",
    "delta = tf.Variable(0.1)\n",
    "\n",
    "with tf.GradientTape() as tape:\n",
    "  new_image = tf.image.adjust_contrast(image, delta)\n",
    "\n",
    "try:\n",
    "  print(tape.gradient(new_image, [image, delta]))\n",
    "  assert False   # This should not happen.\n",
    "except LookupError as e:\n",
    "  print(f'{type(e).__name__}: {e}')"
   ]
  },
  {
   "cell_type": "markdown",
   "id": "9ae086af",
   "metadata": {},
   "source": [
    "If you need to differentiate through this op, you'll either need to implement the gradient and register it (using tf.RegisterGradient) or re-implement the function using other ops."
   ]
  },
  {
   "cell_type": "markdown",
   "id": "dd73ac26",
   "metadata": {},
   "source": [
    "## Zeros instead of None\n",
    "In some cases it would be convenient to get 0 instead of None for unconnected gradients. You can decide what to return when you have unconnected gradients using the `unconnected_gradients` argument:"
   ]
  },
  {
   "cell_type": "code",
   "execution_count": 103,
   "id": "b5523d39",
   "metadata": {},
   "outputs": [
    {
     "name": "stdout",
     "output_type": "stream",
     "text": [
      "0.0\n"
     ]
    }
   ],
   "source": [
    "x = tf.Variable(2.)\n",
    "y = tf.Variable(6.)\n",
    "\n",
    "with tf.GradientTape() as tape:\n",
    "    z = y**2\n",
    "\n",
    "print(tape.gradient(z, x, unconnected_gradients=tf.UnconnectedGradients.ZERO).numpy())"
   ]
  }
 ],
 "metadata": {
  "kernelspec": {
   "display_name": "Python 3 (ipykernel)",
   "language": "python",
   "name": "python3"
  },
  "language_info": {
   "codemirror_mode": {
    "name": "ipython",
    "version": 3
   },
   "file_extension": ".py",
   "mimetype": "text/x-python",
   "name": "python",
   "nbconvert_exporter": "python",
   "pygments_lexer": "ipython3",
   "version": "3.10.9"
  }
 },
 "nbformat": 4,
 "nbformat_minor": 5
}
