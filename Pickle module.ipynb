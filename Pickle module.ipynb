{
 "cells": [
  {
   "cell_type": "markdown",
   "id": "88a57adc",
   "metadata": {},
   "source": [
    "# Pickle Module"
   ]
  },
  {
   "cell_type": "markdown",
   "id": "9a791abf",
   "metadata": {},
   "source": [
    "- \"Pickling\" is the process whereby a python object heirarchy is converted into a bytestream\n",
    "- \"Unpickling\" is the inverse of pickling where a bytestream is converted to a python object heirarchy\n",
    "- Alternativly the process of pickling can be refered to as \"serialization\", \"marshalling\", \"flattening\""
   ]
  },
  {
   "cell_type": "code",
   "execution_count": 1,
   "id": "a7e42fe9",
   "metadata": {},
   "outputs": [],
   "source": [
    "import pickle"
   ]
  },
  {
   "cell_type": "markdown",
   "id": "b5699b81",
   "metadata": {},
   "source": [
    "- the `pickle` module is not secure: unpickle only from trusted source\n",
    "- `JSON` module offers safer serialization\n",
    "- use `hmac` for signing while transfering a pickle in order to counter tempering with pickels"
   ]
  },
  {
   "cell_type": "markdown",
   "id": "5c8ed65a",
   "metadata": {},
   "source": [
    "To serialize an object hierarchy, you simply call the `dumps()` function. Similarly, to de-serialize a data stream, you call the `loads()` function. However, if you want more control over serialization and de-serialization, you can create a ٍٍ`Pickler` or an `Unpickler` object, respectively."
   ]
  },
  {
   "cell_type": "code",
   "execution_count": 7,
   "id": "1b83ddc5",
   "metadata": {},
   "outputs": [],
   "source": [
    "class Crocery:\n",
    "    def __init__(self, name:str, number:int):\n",
    "        self.name = name\n",
    "        self.number = number"
   ]
  },
  {
   "cell_type": "code",
   "execution_count": 8,
   "id": "c926788d",
   "metadata": {},
   "outputs": [],
   "source": [
    "tea_cups = Crocery('English Cup', 12)"
   ]
  },
  {
   "cell_type": "markdown",
   "id": "c87edb8d",
   "metadata": {},
   "source": [
    "- Pickle enables serialization of user-defined objects (unlike marshal)"
   ]
  },
  {
   "cell_type": "code",
   "execution_count": 9,
   "id": "73bee93e",
   "metadata": {},
   "outputs": [],
   "source": [
    "pickled_teaset = pickle.dumps(tea_cups)"
   ]
  },
  {
   "cell_type": "markdown",
   "id": "9852a990",
   "metadata": {},
   "source": [
    "- deserialize pickled object"
   ]
  },
  {
   "cell_type": "code",
   "execution_count": 10,
   "id": "06e24248",
   "metadata": {},
   "outputs": [],
   "source": [
    "teaset_unpickled = pickle.loads(pickled_teaset)"
   ]
  },
  {
   "cell_type": "code",
   "execution_count": 11,
   "id": "b7c234ed",
   "metadata": {},
   "outputs": [
    {
     "data": {
      "text/plain": [
       "'English Cup'"
      ]
     },
     "execution_count": 11,
     "metadata": {},
     "output_type": "execute_result"
    }
   ],
   "source": [
    "teaset_unpickled.name"
   ]
  },
  {
   "cell_type": "code",
   "execution_count": 14,
   "id": "79c90213",
   "metadata": {},
   "outputs": [],
   "source": [
    "class Flower:\n",
    "    def __init__(self, name:str, color:str):\n",
    "        self.name = name\n",
    "        self.color = color\n",
    "        \n",
    "    def change_color(self, color):\n",
    "        self.color = color\n",
    "        "
   ]
  },
  {
   "cell_type": "code",
   "execution_count": 18,
   "id": "a185e078",
   "metadata": {},
   "outputs": [
    {
     "name": "stdout",
     "output_type": "stream",
     "text": [
      "color before: red\n",
      "color after: yellow\n"
     ]
    }
   ],
   "source": [
    "rose = Flower('Rose', 'red')\n",
    "\n",
    "pickled_rose = pickle.dumps(rose)\n",
    "unpickled_rose = pickle.loads(pickled_rose)\n",
    "\n",
    "print(\"color before: {}\".format(unpickled_rose.color))\n",
    "\n",
    "unpickled_rose.change_color('yellow')\n",
    "print(\"color after: {}\".format(unpickled_rose.color))"
   ]
  },
  {
   "cell_type": "markdown",
   "id": "9aa0099b",
   "metadata": {},
   "source": [
    "- The pickle module exports three classes, Pickler, Unpickler and PickleBuffer\n",
    "- These classes in the pickle module provide the main functionality for serializing and deserializing Python objects. They enable you to save and restore object state, transmit objects over a network, or store them persistently."
   ]
  },
  {
   "cell_type": "code",
   "execution_count": null,
   "id": "1720a77d",
   "metadata": {},
   "outputs": [],
   "source": []
  }
 ],
 "metadata": {
  "kernelspec": {
   "display_name": "Python 3 (ipykernel)",
   "language": "python",
   "name": "python3"
  },
  "language_info": {
   "codemirror_mode": {
    "name": "ipython",
    "version": 3
   },
   "file_extension": ".py",
   "mimetype": "text/x-python",
   "name": "python",
   "nbconvert_exporter": "python",
   "pygments_lexer": "ipython3",
   "version": "3.10.9"
  }
 },
 "nbformat": 4,
 "nbformat_minor": 5
}
