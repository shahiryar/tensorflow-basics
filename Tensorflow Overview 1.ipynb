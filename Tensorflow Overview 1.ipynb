{
 "cells": [
  {
   "cell_type": "markdown",
   "id": "f9b443ea",
   "metadata": {},
   "source": [
    "# Basic Concepts of Tensorflow"
   ]
  },
  {
   "cell_type": "code",
   "execution_count": 2,
   "id": "9475a7f8",
   "metadata": {},
   "outputs": [],
   "source": [
    "import tensorflow as tf\n",
    "import numpy as np"
   ]
  },
  {
   "cell_type": "markdown",
   "id": "b16b843a",
   "metadata": {},
   "source": [
    "## Tensors"
   ]
  },
  {
   "cell_type": "markdown",
   "id": "be480096",
   "metadata": {},
   "source": [
    "- Tensorflow deals with multidimenstional arrays or Tensors represented as `tf.Tensor`\n",
    "- here `x` is a 2-d Tensor"
   ]
  },
  {
   "cell_type": "code",
   "execution_count": 41,
   "id": "91108a69",
   "metadata": {},
   "outputs": [],
   "source": [
    "x = tf.constant(np.random.normal(1,1,6).reshape(2,3))"
   ]
  },
  {
   "cell_type": "markdown",
   "id": "17b96748",
   "metadata": {},
   "source": [
    "- `shape` of a `Tensor` tells the size of the Tensor along each axis"
   ]
  },
  {
   "cell_type": "code",
   "execution_count": 47,
   "id": "82f2153c",
   "metadata": {},
   "outputs": [
    {
     "name": "stdout",
     "output_type": "stream",
     "text": [
      "(2, 3)\n"
     ]
    }
   ],
   "source": [
    "print(x.shape)"
   ]
  },
  {
   "cell_type": "markdown",
   "id": "7c7d6277",
   "metadata": {},
   "source": [
    "- `dtype` tells the type of all the elements in the Tensor"
   ]
  },
  {
   "cell_type": "code",
   "execution_count": 49,
   "id": "87db730a",
   "metadata": {
    "scrolled": false
   },
   "outputs": [
    {
     "name": "stdout",
     "output_type": "stream",
     "text": [
      "<dtype: 'float64'>\n"
     ]
    }
   ],
   "source": [
    "print(x.dtype)"
   ]
  },
  {
   "cell_type": "markdown",
   "id": "cd3ed490",
   "metadata": {},
   "source": [
    "### Standard Mathematical operations works with tensors in tf"
   ]
  },
  {
   "cell_type": "markdown",
   "id": "9ea21003",
   "metadata": {},
   "source": [
    "- addition"
   ]
  },
  {
   "cell_type": "code",
   "execution_count": 53,
   "id": "7769220d",
   "metadata": {},
   "outputs": [
    {
     "data": {
      "text/plain": [
       "<tf.Tensor: shape=(2, 3), dtype=float64, numpy=\n",
       "array([[2.21184183, 3.85308796, 0.58187833],\n",
       "       [3.89778944, 2.12421164, 1.44872504]])>"
      ]
     },
     "execution_count": 53,
     "metadata": {},
     "output_type": "execute_result"
    }
   ],
   "source": [
    "x + x"
   ]
  },
  {
   "cell_type": "code",
   "execution_count": 54,
   "id": "2cc3ac9b",
   "metadata": {},
   "outputs": [
    {
     "data": {
      "text/plain": [
       "<tf.Tensor: shape=(2, 3), dtype=float64, numpy=\n",
       "array([[5.52960459, 9.63271991, 1.45469582],\n",
       "       [9.74447361, 5.31052911, 3.62181259]])>"
      ]
     },
     "execution_count": 54,
     "metadata": {},
     "output_type": "execute_result"
    }
   ],
   "source": [
    "5*x"
   ]
  },
  {
   "cell_type": "markdown",
   "id": "c08f8bea",
   "metadata": {},
   "source": [
    "- vector transpose"
   ]
  },
  {
   "cell_type": "code",
   "execution_count": 64,
   "id": "ec3078c0",
   "metadata": {},
   "outputs": [
    {
     "data": {
      "text/plain": [
       "<tf.Tensor: shape=(3, 2), dtype=float64, numpy=\n",
       "array([[1.10592092, 1.94889472],\n",
       "       [1.92654398, 1.06210582],\n",
       "       [0.29093916, 0.72436252]])>"
      ]
     },
     "execution_count": 64,
     "metadata": {},
     "output_type": "execute_result"
    }
   ],
   "source": [
    "tf.transpose(x)"
   ]
  },
  {
   "cell_type": "markdown",
   "id": "bb8b515c",
   "metadata": {},
   "source": [
    "- dot product of two matrices: in this case\n",
    "    - dot product of x and xT"
   ]
  },
  {
   "cell_type": "code",
   "execution_count": 62,
   "id": "94d0a459",
   "metadata": {},
   "outputs": [
    {
     "data": {
      "text/plain": [
       "<tf.Tensor: shape=(2, 2), dtype=float64, numpy=\n",
       "array([[5.01927839, 4.41226244],\n",
       "       [4.41226244, 5.45096047]])>"
      ]
     },
     "execution_count": 62,
     "metadata": {},
     "output_type": "execute_result"
    }
   ],
   "source": [
    "x@tf.transpose(x)"
   ]
  },
  {
   "cell_type": "code",
   "execution_count": 61,
   "id": "32baed56",
   "metadata": {},
   "outputs": [
    {
     "data": {
      "text/plain": [
       "<tf.Tensor: shape=(3, 2), dtype=float64, numpy=\n",
       "array([[1.10592092, 1.94889472],\n",
       "       [1.92654398, 1.06210582],\n",
       "       [0.29093916, 0.72436252]])>"
      ]
     },
     "execution_count": 61,
     "metadata": {},
     "output_type": "execute_result"
    }
   ],
   "source": [
    "tf.transpose(x)"
   ]
  },
  {
   "cell_type": "markdown",
   "id": "5ed090f7",
   "metadata": {},
   "source": [
    "- dot product of 2x2 matrix with itself"
   ]
  },
  {
   "cell_type": "code",
   "execution_count": 70,
   "id": "3351fb6f",
   "metadata": {},
   "outputs": [],
   "source": [
    "y = tf.constant([[1,2],[1,2]])"
   ]
  },
  {
   "cell_type": "code",
   "execution_count": 72,
   "id": "963d95d9",
   "metadata": {},
   "outputs": [
    {
     "data": {
      "text/plain": [
       "<tf.Tensor: shape=(2, 2), dtype=int32, numpy=\n",
       "array([[3, 6],\n",
       "       [3, 6]], dtype=int32)>"
      ]
     },
     "execution_count": 72,
     "metadata": {},
     "output_type": "execute_result"
    }
   ],
   "source": [
    "y@y"
   ]
  },
  {
   "cell_type": "markdown",
   "id": "3c5e8c90",
   "metadata": {},
   "source": [
    "- concatination of two or more tensors"
   ]
  },
  {
   "cell_type": "code",
   "execution_count": 79,
   "id": "d40b16a2",
   "metadata": {},
   "outputs": [
    {
     "data": {
      "text/plain": [
       "<tf.Tensor: shape=(2, 4), dtype=int32, numpy=\n",
       "array([[1, 2, 1, 2],\n",
       "       [1, 2, 1, 2]], dtype=int32)>"
      ]
     },
     "execution_count": 79,
     "metadata": {},
     "output_type": "execute_result"
    }
   ],
   "source": [
    "tf.concat([y,y], axis=1)"
   ]
  },
  {
   "cell_type": "code",
   "execution_count": 80,
   "id": "5990e942",
   "metadata": {},
   "outputs": [
    {
     "data": {
      "text/plain": [
       "<tf.Tensor: shape=(4, 2), dtype=int32, numpy=\n",
       "array([[1, 2],\n",
       "       [1, 2],\n",
       "       [1, 2],\n",
       "       [1, 2]], dtype=int32)>"
      ]
     },
     "execution_count": 80,
     "metadata": {},
     "output_type": "execute_result"
    }
   ],
   "source": [
    "tf.concat([y,y], axis=0)"
   ]
  },
  {
   "cell_type": "markdown",
   "id": "7e6ccbdf",
   "metadata": {},
   "source": [
    "- Softmax function operation"
   ]
  },
  {
   "cell_type": "code",
   "execution_count": 87,
   "id": "007f3739",
   "metadata": {},
   "outputs": [
    {
     "data": {
      "text/plain": [
       "<tf.Tensor: shape=(2, 3), dtype=float64, numpy=\n",
       "array([[0.26921072, 0.61162386, 0.11916543],\n",
       "       [0.58621056, 0.24150499, 0.17228444]])>"
      ]
     },
     "execution_count": 87,
     "metadata": {},
     "output_type": "execute_result"
    }
   ],
   "source": [
    "tf.nn.softmax(x, axis=1)"
   ]
  },
  {
   "cell_type": "code",
   "execution_count": 89,
   "id": "102732ef",
   "metadata": {},
   "outputs": [
    {
     "data": {
      "text/plain": [
       "<tf.Tensor: shape=(2, 3), dtype=float64, numpy=\n",
       "array([[0.30090884, 0.70358708, 0.39330916],\n",
       "       [0.69909116, 0.29641292, 0.60669084]])>"
      ]
     },
     "execution_count": 89,
     "metadata": {},
     "output_type": "execute_result"
    }
   ],
   "source": [
    "tf.nn.softmax(x, axis=0)"
   ]
  },
  {
   "cell_type": "code",
   "execution_count": 90,
   "id": "d11fbe65",
   "metadata": {},
   "outputs": [
    {
     "data": {
      "text/plain": [
       "<tf.Tensor: shape=(2, 3), dtype=float64, numpy=\n",
       "array([[0.26921072, 0.61162386, 0.11916543],\n",
       "       [0.58621056, 0.24150499, 0.17228444]])>"
      ]
     },
     "execution_count": 90,
     "metadata": {},
     "output_type": "execute_result"
    }
   ],
   "source": [
    "tf.nn.softmax(x, axis=-1)"
   ]
  },
  {
   "cell_type": "markdown",
   "id": "a1b277d6",
   "metadata": {},
   "source": [
    "- reduce sum of a matrix"
   ]
  },
  {
   "cell_type": "code",
   "execution_count": 91,
   "id": "5388cfa0",
   "metadata": {},
   "outputs": [
    {
     "data": {
      "text/plain": [
       "<tf.Tensor: shape=(), dtype=int32, numpy=6>"
      ]
     },
     "execution_count": 91,
     "metadata": {},
     "output_type": "execute_result"
    }
   ],
   "source": [
    "tf.reduce_sum(y)"
   ]
  },
  {
   "cell_type": "code",
   "execution_count": 92,
   "id": "83e634a9",
   "metadata": {},
   "outputs": [
    {
     "data": {
      "text/plain": [
       "<tf.Tensor: shape=(), dtype=float64, numpy=2.0>"
      ]
     },
     "execution_count": 92,
     "metadata": {},
     "output_type": "execute_result"
    }
   ],
   "source": [
    "tf.reduce_sum(tf.nn.softmax(x, axis=-1))"
   ]
  },
  {
   "cell_type": "code",
   "execution_count": 95,
   "id": "ed3c801a",
   "metadata": {},
   "outputs": [
    {
     "data": {
      "text/plain": [
       "<tf.Tensor: shape=(), dtype=float64, numpy=3.0>"
      ]
     },
     "execution_count": 95,
     "metadata": {},
     "output_type": "execute_result"
    }
   ],
   "source": [
    "tf.reduce_sum(tf.nn.softmax(x, axis=0)) # the reduce sum of the matrix here is 3 because there are three columns and the axis softmax is applied to is 0"
   ]
  },
  {
   "cell_type": "code",
   "execution_count": 94,
   "id": "c486c3ba",
   "metadata": {},
   "outputs": [
    {
     "data": {
      "text/plain": [
       "<tf.Tensor: shape=(), dtype=float64, numpy=2.0>"
      ]
     },
     "execution_count": 94,
     "metadata": {},
     "output_type": "execute_result"
    }
   ],
   "source": [
    "tf.reduce_sum(tf.nn.softmax(x, axis=1))"
   ]
  },
  {
   "cell_type": "markdown",
   "id": "2d557550",
   "metadata": {},
   "source": [
    "## Check if tensorflow is using hardware accelarator"
   ]
  },
  {
   "cell_type": "code",
   "execution_count": 102,
   "id": "9969f201",
   "metadata": {},
   "outputs": [
    {
     "name": "stdout",
     "output_type": "stream",
     "text": [
      "Tensorflow **IS** using GPU\n"
     ]
    }
   ],
   "source": [
    "if tf.config.list_physical_devices('GPU'):\n",
    "    print('Tensorflow **IS** using GPU')\n",
    "else:\n",
    "    print('Tensorflow **IS NOT** using GPU')"
   ]
  },
  {
   "cell_type": "markdown",
   "id": "86dd591e",
   "metadata": {},
   "source": [
    "## Variables"
   ]
  },
  {
   "cell_type": "markdown",
   "id": "dae03d3f",
   "metadata": {},
   "source": [
    "- Tensorflow `Tensor` is **immutable**\n",
    "- in order to store variable matrices of, say,  _weights_ for a neural network then `tf.Variable` is suitable"
   ]
  },
  {
   "cell_type": "code",
   "execution_count": 104,
   "id": "17007b52",
   "metadata": {},
   "outputs": [],
   "source": [
    "var = tf.Variable([0.0, 0.0, 0.0])"
   ]
  },
  {
   "cell_type": "code",
   "execution_count": 105,
   "id": "f72dccc9",
   "metadata": {},
   "outputs": [
    {
     "name": "stdout",
     "output_type": "stream",
     "text": [
      "<tf.Variable 'Variable:0' shape=(3,) dtype=float32, numpy=array([1., 2., 3.], dtype=float32)>\n"
     ]
    }
   ],
   "source": [
    "var.assign([1,2,3])\n",
    "print(var)"
   ]
  },
  {
   "cell_type": "code",
   "execution_count": 106,
   "id": "58e739b7",
   "metadata": {},
   "outputs": [
    {
     "data": {
      "text/plain": [
       "<tf.Variable 'UnreadVariable' shape=(3,) dtype=float32, numpy=array([2., 3., 4.], dtype=float32)>"
      ]
     },
     "execution_count": 106,
     "metadata": {},
     "output_type": "execute_result"
    }
   ],
   "source": [
    "var.assign_add([1,1,1])"
   ]
  },
  {
   "cell_type": "code",
   "execution_count": 108,
   "id": "373a1a87",
   "metadata": {},
   "outputs": [
    {
     "name": "stdout",
     "output_type": "stream",
     "text": [
      "(3,)\n"
     ]
    }
   ],
   "source": [
    "print(var.shape)"
   ]
  },
  {
   "cell_type": "code",
   "execution_count": 109,
   "id": "7c28e3fd",
   "metadata": {},
   "outputs": [
    {
     "name": "stdout",
     "output_type": "stream",
     "text": [
      "<dtype: 'float32'>\n"
     ]
    }
   ],
   "source": [
    "print(var.dtype)"
   ]
  },
  {
   "cell_type": "markdown",
   "id": "bcc13b82",
   "metadata": {},
   "source": [
    "## Auto Differentiation"
   ]
  },
  {
   "cell_type": "markdown",
   "id": "f3c9aad1",
   "metadata": {},
   "source": [
    "- `tf` implements _autodif_ to enable automatic calculation of gradients using calculus"
   ]
  },
  {
   "cell_type": "code",
   "execution_count": 139,
   "id": "aa455dc0",
   "metadata": {},
   "outputs": [],
   "source": [
    "# let's take scaler x\n",
    "x = tf.Variable(1.0)\n",
    "\n",
    "#define a function f(x) = y\n",
    "def f(x):\n",
    "    y = x**2 + 2*x - 5\n",
    "    return y"
   ]
  },
  {
   "cell_type": "code",
   "execution_count": 140,
   "id": "d145b00d",
   "metadata": {},
   "outputs": [
    {
     "data": {
      "text/plain": [
       "<tf.Tensor: shape=(), dtype=float32, numpy=-2.0>"
      ]
     },
     "execution_count": 140,
     "metadata": {},
     "output_type": "execute_result"
    }
   ],
   "source": [
    "f(x)"
   ]
  },
  {
   "cell_type": "markdown",
   "id": "2839ae95",
   "metadata": {},
   "source": [
    "- calculating dy/dx\n",
    "- we know that the derivative, f'(x), of f(x) is f2x+2 \n",
    "- tf calculate this function using autodif"
   ]
  },
  {
   "cell_type": "code",
   "execution_count": 142,
   "id": "d38948e3",
   "metadata": {},
   "outputs": [
    {
     "data": {
      "text/plain": [
       "<tf.Tensor: shape=(), dtype=float32, numpy=4.0>"
      ]
     },
     "execution_count": 142,
     "metadata": {},
     "output_type": "execute_result"
    }
   ],
   "source": [
    "with tf.GradientTape() as tape:\n",
    "    y = f(x)\n",
    "\n",
    "#let take f'(x) as g_x\n",
    "g_x = tape.gradient(y,x) #g(x) = dy/dx\n",
    "g_x"
   ]
  },
  {
   "cell_type": "markdown",
   "id": "588bc1ab",
   "metadata": {},
   "source": [
    "## Graphs and tf.function"
   ]
  },
  {
   "cell_type": "code",
   "execution_count": 143,
   "id": "21cf8588",
   "metadata": {},
   "outputs": [],
   "source": [
    "@tf.function\n",
    "def my_func(x):\n",
    "  print('Tracing.\\n')\n",
    "  return tf.reduce_sum(x)"
   ]
  },
  {
   "cell_type": "code",
   "execution_count": 144,
   "id": "840c8902",
   "metadata": {},
   "outputs": [
    {
     "name": "stdout",
     "output_type": "stream",
     "text": [
      "Tracing.\n",
      "\n"
     ]
    },
    {
     "name": "stderr",
     "output_type": "stream",
     "text": [
      "2023-07-07 23:10:35.134016: I tensorflow/core/grappler/optimizers/custom_graph_optimizer_registry.cc:114] Plugin optimizer for device_type GPU is enabled.\n"
     ]
    },
    {
     "data": {
      "text/plain": [
       "<tf.Tensor: shape=(), dtype=int32, numpy=6>"
      ]
     },
     "execution_count": 144,
     "metadata": {},
     "output_type": "execute_result"
    }
   ],
   "source": [
    "x = tf.constant([1, 2, 3])\n",
    "my_func(x)"
   ]
  },
  {
   "cell_type": "code",
   "execution_count": 145,
   "id": "6b015c38",
   "metadata": {},
   "outputs": [
    {
     "data": {
      "text/plain": [
       "<tf.Tensor: shape=(), dtype=int32, numpy=27>"
      ]
     },
     "execution_count": 145,
     "metadata": {},
     "output_type": "execute_result"
    }
   ],
   "source": [
    "x = tf.constant([10, 9, 8])\n",
    "my_func(x)"
   ]
  },
  {
   "cell_type": "markdown",
   "id": "65f14d36",
   "metadata": {},
   "source": [
    "- Notice how the second time `my_func` is run the nontensorflow part of the function is not run\n",
    "- `Tracing.` is not printed as after the first run the `tf.function` declaration enables tensorflow to build an optimization graph\n",
    "- this optimization graph can be exported to be used on servers as well as mobile devices using `tf.saved_model`"
   ]
  }
 ],
 "metadata": {
  "kernelspec": {
   "display_name": "Python 3 (ipykernel)",
   "language": "python",
   "name": "python3"
  },
  "language_info": {
   "codemirror_mode": {
    "name": "ipython",
    "version": 3
   },
   "file_extension": ".py",
   "mimetype": "text/x-python",
   "name": "python",
   "nbconvert_exporter": "python",
   "pygments_lexer": "ipython3",
   "version": "3.10.9"
  }
 },
 "nbformat": 4,
 "nbformat_minor": 5
}
