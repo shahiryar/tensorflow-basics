{
 "cells": [
  {
   "cell_type": "markdown",
   "id": "d922c51d",
   "metadata": {},
   "source": [
    "# Introduction to Tensors"
   ]
  },
  {
   "cell_type": "code",
   "execution_count": 3,
   "id": "9ae6f8d9",
   "metadata": {},
   "outputs": [],
   "source": [
    "import tensorflow as tf\n",
    "import numpy as np"
   ]
  },
  {
   "cell_type": "markdown",
   "id": "4ac941fb",
   "metadata": {},
   "source": [
    "- Tensors are multidimensional arrays with a uniform type\n",
    "- All tensors are immuntable"
   ]
  },
  {
   "cell_type": "markdown",
   "id": "1962dfab",
   "metadata": {},
   "source": [
    "## Basics"
   ]
  },
  {
   "cell_type": "code",
   "execution_count": 13,
   "id": "410e4f26",
   "metadata": {},
   "outputs": [
    {
     "name": "stdout",
     "output_type": "stream",
     "text": [
      "tf.Tensor(4, shape=(), dtype=int32)\n"
     ]
    }
   ],
   "source": [
    "# Scalar or Rank-0 Tensor: value without axis\n",
    "rank_0_tensor = tf.constant(4)\n",
    "print(rank_0_tensor)"
   ]
  },
  {
   "cell_type": "code",
   "execution_count": 15,
   "id": "89e20842",
   "metadata": {},
   "outputs": [
    {
     "name": "stdout",
     "output_type": "stream",
     "text": [
      "tf.Tensor([1 2 3], shape=(3,), dtype=int32)\n"
     ]
    }
   ],
   "source": [
    "# Vector or Rank-1 Tensor: vector has one axis\n",
    "rank_1_tensor = tf.constant([1,2,3])\n",
    "print(rank_1_tensor)"
   ]
  },
  {
   "cell_type": "code",
   "execution_count": 17,
   "id": "f332498b",
   "metadata": {},
   "outputs": [
    {
     "name": "stdout",
     "output_type": "stream",
     "text": [
      "tf.Tensor(\n",
      "[[1. 0. 0.]\n",
      " [0. 1. 0.]\n",
      " [0. 0. 1.]], shape=(3, 3), dtype=float16)\n"
     ]
    }
   ],
   "source": [
    "# Matrix or Rank-2 Tensor: Matrix has two axises\n",
    "rank_2_tensor =tf.constant([[1,0,0], [0,1,0], [0,0,1]], dtype=tf.float16)\n",
    "print(rank_2_tensor)"
   ]
  },
  {
   "cell_type": "code",
   "execution_count": 23,
   "id": "ccc5f1dc",
   "metadata": {},
   "outputs": [
    {
     "name": "stdout",
     "output_type": "stream",
     "text": [
      "a scalar tensor has Shape : ()\n",
      "a Vector tensor has Shape : (3,)\n",
      "a Matrix tensor has Shape : (3, 3)\n"
     ]
    }
   ],
   "source": [
    "print(\"a scalar tensor has Shape : {}\".format(rank_0_tensor.shape))\n",
    "print(\"a Vector tensor has Shape : {}\".format(rank_1_tensor.shape))\n",
    "print(\"a Matrix tensor has Shape : {}\".format(rank_2_tensor.shape))"
   ]
  },
  {
   "cell_type": "code",
   "execution_count": 24,
   "id": "3329d86c",
   "metadata": {},
   "outputs": [
    {
     "name": "stdout",
     "output_type": "stream",
     "text": [
      "tf.Tensor(\n",
      "[[[1 2 3]\n",
      "  [4 2 5]]\n",
      "\n",
      " [[3 4 2]\n",
      "  [5 1 7]]], shape=(2, 2, 3), dtype=int32)\n"
     ]
    }
   ],
   "source": [
    "# Tensor with rank > 2\n",
    "rank_3_tensor = tf.constant([[[1,2,3], [4,2,5]],[[3,4,2],[5,1,7]]])\n",
    "print(rank_3_tensor)"
   ]
  },
  {
   "cell_type": "code",
   "execution_count": 25,
   "id": "e1e897b2",
   "metadata": {},
   "outputs": [
    {
     "name": "stdout",
     "output_type": "stream",
     "text": [
      "a Rank-3 tensor has Shape : (2, 2, 3)\n"
     ]
    }
   ],
   "source": [
    "print(\"a Rank-3 tensor has Shape : {}\".format(rank_3_tensor.shape))"
   ]
  },
  {
   "cell_type": "markdown",
   "id": "b6a4463b",
   "metadata": {},
   "source": [
    "- Converting a Tensor to a numpy array"
   ]
  },
  {
   "cell_type": "code",
   "execution_count": 26,
   "id": "7bd1f210",
   "metadata": {},
   "outputs": [
    {
     "data": {
      "text/plain": [
       "array([[[1, 2, 3],\n",
       "        [4, 2, 5]],\n",
       "\n",
       "       [[3, 4, 2],\n",
       "        [5, 1, 7]]], dtype=int32)"
      ]
     },
     "execution_count": 26,
     "metadata": {},
     "output_type": "execute_result"
    }
   ],
   "source": [
    "# using numpy.array()\n",
    "np.array(rank_3_tensor)"
   ]
  },
  {
   "cell_type": "code",
   "execution_count": 28,
   "id": "0c39545d",
   "metadata": {},
   "outputs": [
    {
     "data": {
      "text/plain": [
       "array([[1., 0., 0.],\n",
       "       [0., 1., 0.],\n",
       "       [0., 0., 1.]], dtype=float16)"
      ]
     },
     "execution_count": 28,
     "metadata": {},
     "output_type": "execute_result"
    }
   ],
   "source": [
    "# using tf.Tensor.numpy()\n",
    "rank_2_tensor.numpy()"
   ]
  },
  {
   "cell_type": "markdown",
   "id": "2f4352cd",
   "metadata": {},
   "source": [
    "- Tensors often are of common dtypes like float and int, but they could also contains other types like:\n",
    "    - complex\n",
    "    - string"
   ]
  },
  {
   "cell_type": "code",
   "execution_count": 62,
   "id": "0f3b156c",
   "metadata": {},
   "outputs": [],
   "source": [
    "rank_1_complex_tensor = tf.complex(tf.random.uniform(minval=-5, maxval=5, shape=[3]), tf.random.uniform(minval=-5, maxval=5, shape=[3]))"
   ]
  },
  {
   "cell_type": "markdown",
   "id": "7bc5366b",
   "metadata": {},
   "source": [
    "The base `tf.Tensor clas`s requires tensors to be \"rectangular\"---that is, along each axis, every element is the same size. However, there are specialized types of tensors that can handle different shapes:\n",
    "\n",
    "- Ragged tensors (see RaggedTensor)\n",
    "- Sparse tensors (see SparseTensor)"
   ]
  },
  {
   "cell_type": "markdown",
   "id": "bc412602",
   "metadata": {},
   "source": [
    "## Basic Math Operations "
   ]
  },
  {
   "cell_type": "code",
   "execution_count": 63,
   "id": "407b2c9a",
   "metadata": {},
   "outputs": [],
   "source": [
    "a = tf.constant([[1, 2],\n",
    "                 [3, 4]])\n",
    "b = tf.constant([[1, 1],\n",
    "                 [1, 1]]) # Could have also said `tf.ones([2,2], dtype=tf.int32)`"
   ]
  },
  {
   "cell_type": "code",
   "execution_count": 64,
   "id": "a28e70cc",
   "metadata": {},
   "outputs": [
    {
     "data": {
      "text/plain": [
       "<tf.Tensor: shape=(2, 2), dtype=int32, numpy=\n",
       "array([[2, 3],\n",
       "       [4, 5]], dtype=int32)>"
      ]
     },
     "execution_count": 64,
     "metadata": {},
     "output_type": "execute_result"
    }
   ],
   "source": [
    "a + b"
   ]
  },
  {
   "cell_type": "code",
   "execution_count": 65,
   "id": "435735f7",
   "metadata": {},
   "outputs": [
    {
     "data": {
      "text/plain": [
       "<tf.Tensor: shape=(2, 2), dtype=int32, numpy=\n",
       "array([[2, 3],\n",
       "       [4, 5]], dtype=int32)>"
      ]
     },
     "execution_count": 65,
     "metadata": {},
     "output_type": "execute_result"
    }
   ],
   "source": [
    "tf.add(a, b)"
   ]
  },
  {
   "cell_type": "code",
   "execution_count": 66,
   "id": "52dabdad",
   "metadata": {},
   "outputs": [
    {
     "data": {
      "text/plain": [
       "<tf.Tensor: shape=(2, 2), dtype=int32, numpy=\n",
       "array([[0, 1],\n",
       "       [2, 3]], dtype=int32)>"
      ]
     },
     "execution_count": 66,
     "metadata": {},
     "output_type": "execute_result"
    }
   ],
   "source": [
    "a-b"
   ]
  },
  {
   "cell_type": "code",
   "execution_count": 69,
   "id": "ab3878a8",
   "metadata": {},
   "outputs": [
    {
     "data": {
      "text/plain": [
       "<tf.Tensor: shape=(2, 2), dtype=int32, numpy=\n",
       "array([[1, 2],\n",
       "       [3, 4]], dtype=int32)>"
      ]
     },
     "execution_count": 69,
     "metadata": {},
     "output_type": "execute_result"
    }
   ],
   "source": [
    "# element wise multiplication!\n",
    "tf.multiply(a,b)"
   ]
  },
  {
   "cell_type": "code",
   "execution_count": 70,
   "id": "cf376061",
   "metadata": {},
   "outputs": [
    {
     "data": {
      "text/plain": [
       "<tf.Tensor: shape=(2, 2), dtype=int32, numpy=\n",
       "array([[3, 3],\n",
       "       [7, 7]], dtype=int32)>"
      ]
     },
     "execution_count": 70,
     "metadata": {},
     "output_type": "execute_result"
    }
   ],
   "source": [
    "# **MATRIX MULTIPLICATION**\n",
    "tf.matmul(a,b)"
   ]
  },
  {
   "cell_type": "code",
   "execution_count": 73,
   "id": "d5a56356",
   "metadata": {},
   "outputs": [
    {
     "data": {
      "text/plain": [
       "<tf.Tensor: shape=(2, 2), dtype=int32, numpy=\n",
       "array([[3, 3],\n",
       "       [7, 7]], dtype=int32)>"
      ]
     },
     "execution_count": 73,
     "metadata": {},
     "output_type": "execute_result"
    }
   ],
   "source": [
    "a@b"
   ]
  },
  {
   "cell_type": "code",
   "execution_count": 75,
   "id": "ab3204cb",
   "metadata": {},
   "outputs": [
    {
     "data": {
      "text/plain": [
       "<tf.Tensor: shape=(2, 2), dtype=int32, numpy=\n",
       "array([[4, 6],\n",
       "       [4, 6]], dtype=int32)>"
      ]
     },
     "execution_count": 75,
     "metadata": {},
     "output_type": "execute_result"
    }
   ],
   "source": [
    "tf.matmul(b, a)"
   ]
  },
  {
   "cell_type": "code",
   "execution_count": 76,
   "id": "db3ef429",
   "metadata": {},
   "outputs": [
    {
     "data": {
      "text/plain": [
       "<tf.Tensor: shape=(2, 2), dtype=int32, numpy=\n",
       "array([[4, 6],\n",
       "       [4, 6]], dtype=int32)>"
      ]
     },
     "execution_count": 76,
     "metadata": {},
     "output_type": "execute_result"
    }
   ],
   "source": [
    "b@a"
   ]
  },
  {
   "cell_type": "code",
   "execution_count": 77,
   "id": "072d7025",
   "metadata": {},
   "outputs": [
    {
     "name": "stdout",
     "output_type": "stream",
     "text": [
      "tf.Tensor(\n",
      "[[2 3]\n",
      " [4 5]], shape=(2, 2), dtype=int32) \n",
      "\n",
      "tf.Tensor(\n",
      "[[1 2]\n",
      " [3 4]], shape=(2, 2), dtype=int32) \n",
      "\n",
      "tf.Tensor(\n",
      "[[3 3]\n",
      " [7 7]], shape=(2, 2), dtype=int32) \n",
      "\n"
     ]
    }
   ],
   "source": [
    "print(a + b, \"\\n\") # element-wise addition\n",
    "print(a * b, \"\\n\") # element-wise multiplication\n",
    "print(a @ b, \"\\n\") # matrix multiplication"
   ]
  },
  {
   "cell_type": "markdown",
   "id": "2433349a",
   "metadata": {},
   "source": [
    "## Operations using Tensors "
   ]
  },
  {
   "cell_type": "code",
   "execution_count": 81,
   "id": "c20590cc",
   "metadata": {},
   "outputs": [
    {
     "name": "stdout",
     "output_type": "stream",
     "text": [
      "tf.Tensor(10.0, shape=(), dtype=float32)\n",
      "tf.Tensor(20.0, shape=(), dtype=float32)\n",
      "tf.Tensor(5.0, shape=(), dtype=float32)\n",
      "tf.Tensor([1 0], shape=(2,), dtype=int64)\n",
      "tf.Tensor(\n",
      "[[0.00247262 0.98201376]\n",
      " [0.9975274  0.01798621]], shape=(2, 2), dtype=float32)\n"
     ]
    }
   ],
   "source": [
    "c = tf.constant([[4.0, 5.0], [10.0, 1.0]])\n",
    "\n",
    "# find largest value\n",
    "print(tf.reduce_max(c))\n",
    "\n",
    "# sum all the elements\n",
    "print(tf.reduce_sum(c))\n",
    "\n",
    "# take the mean over all the elements in the tensor\n",
    "print(tf.reduce_mean(c))\n",
    "\n",
    "#find the index of the largest value in the tensor\n",
    "print(tf.math.argmax(c))\n",
    "\n",
    "# compute the softmax\n",
    "print(tf.nn.softmax(c, axis=0))\n",
    "\n",
    "\n"
   ]
  },
  {
   "cell_type": "markdown",
   "id": "2d41e145",
   "metadata": {},
   "source": [
    "## Shapes of Tensors"
   ]
  },
  {
   "cell_type": "markdown",
   "id": "851a6a36",
   "metadata": {},
   "source": [
    "- __Shape__ the length of each of the axis of the tensor\n",
    "- __Rank__ the number of axises in the tensor\n",
    "- __Axis/Dimension__ a particular dimension of the tensor\n",
    "- __Size__ the total number of elements in the tensor"
   ]
  },
  {
   "cell_type": "code",
   "execution_count": 85,
   "id": "4e6a58af",
   "metadata": {},
   "outputs": [],
   "source": [
    "rank_4_tensor = tf.zeros([2,2,3,5])"
   ]
  },
  {
   "cell_type": "code",
   "execution_count": 86,
   "id": "c2e6fc86",
   "metadata": {},
   "outputs": [
    {
     "data": {
      "text/plain": [
       "TensorShape([2, 2, 3, 5])"
      ]
     },
     "execution_count": 86,
     "metadata": {},
     "output_type": "execute_result"
    }
   ],
   "source": [
    "rank_4_tensor.shape"
   ]
  },
  {
   "cell_type": "markdown",
   "id": "c7373215",
   "metadata": {},
   "source": [
    "- `TensorShape` object gives access to these shape properties of tensors"
   ]
  },
  {
   "cell_type": "code",
   "execution_count": 95,
   "id": "354336fd",
   "metadata": {},
   "outputs": [
    {
     "name": "stdout",
     "output_type": "stream",
     "text": [
      "Data type of all elements : <dtype: 'float32'>\n",
      "Number of axis/Rank : 4\n",
      "Rank of Tensor: 4\n",
      "Size of tensor : 60\n",
      "Number of Elements in the first axis 2\n",
      "Number of Elements in the LAST axis 5\n"
     ]
    }
   ],
   "source": [
    "print(\"Data type of all elements : {}\".format(rank_4_tensor.dtype))\n",
    "print(\"Number of axis/Rank : {}\".format(rank_4_tensor.ndim)) #ndim returns int\n",
    "print(\"Size of tensor : {}\".format(tf.size(rank_4_tensor).numpy()))\n",
    "print(\"Number of Elements in the first axis {}\".format(rank_4_tensor.shape[0]))\n",
    "print(\"Number of Elements in the LAST axis {}\".format(rank_4_tensor.shape[-1]))"
   ]
  },
  {
   "cell_type": "markdown",
   "id": "5f22bd3f",
   "metadata": {},
   "source": [
    "- note that the Tensor.ndim and Tensor.shape attributes don't return Tensor objects. If you need a Tensor use the tf.rank or tf.shape function. This difference is subtle, but it can be important when building graphs (later)."
   ]
  },
  {
   "cell_type": "code",
   "execution_count": 100,
   "id": "48f7bb30",
   "metadata": {},
   "outputs": [
    {
     "name": "stdout",
     "output_type": "stream",
     "text": [
      "<class 'int'>\n",
      "<class 'tensorflow.python.framework.ops.EagerTensor'> \n",
      "\n",
      "<class 'tensorflow.python.framework.tensor_shape.TensorShape'>\n",
      "<class 'tensorflow.python.framework.ops.EagerTensor'>\n"
     ]
    }
   ],
   "source": [
    "print(type(rank_4_tensor.ndim))\n",
    "print(type(tf.rank(rank_4_tensor)), '\\n')\n",
    "\n",
    "print(type(rank_4_tensor.shape))\n",
    "print(type(tf.shape(rank_4_tensor)))"
   ]
  },
  {
   "cell_type": "markdown",
   "id": "6c9e194e",
   "metadata": {},
   "source": [
    "- While axes are often referred to by their indices, you should always keep track of the meaning of each. \n",
    "- Often axes are ordered from *global to local*: \n",
    "    - The batch axis first, \n",
    "    - followed by spatial dimensions, and \n",
    "    - features for each location last. \n",
    "- This way feature vectors are contiguous regions of memory"
   ]
  },
  {
   "cell_type": "markdown",
   "id": "756d4893",
   "metadata": {},
   "source": [
    "- Here is the meanings of four axises of a rank 4 tensor\n",
    "1. axis 0 -> Batch\n",
    "2. axis 1 -> Height \n",
    "3. axis 2 -> Width\n",
    "4. axis 3 -> Features"
   ]
  },
  {
   "cell_type": "markdown",
   "id": "098655ba",
   "metadata": {},
   "source": [
    "- Base `tf.Tensor` requires that the tensor be __rectangular__ ie along each axis every element is the same size\n",
    "- However, specialized types of Tensor classes are able to handle differenet Shapes\n",
    "    - Ragged tensors (see [RaggedTensor](https://www.tensorflow.org/guide/tensor#ragged_tensors) below)\n",
    "    - Sparse tensors (see [SparseTensor](https://www.tensorflow.org/guide/tensor#sparse_tensors) below)"
   ]
  },
  {
   "cell_type": "markdown",
   "id": "2d31cdc0",
   "metadata": {},
   "source": [
    "## Indexing "
   ]
  },
  {
   "cell_type": "markdown",
   "id": "d2ad947f",
   "metadata": {},
   "source": [
    "### Single Axis Indexing"
   ]
  },
  {
   "cell_type": "markdown",
   "id": "a5df8c4e",
   "metadata": {},
   "source": [
    "Rules of Indexing\n",
    "- Index starts at 0\n",
    "- negative index counts backward\n",
    "- `:` is used for slicing `start:stop:step`\n"
   ]
  },
  {
   "cell_type": "code",
   "execution_count": 101,
   "id": "0691b249",
   "metadata": {},
   "outputs": [
    {
     "name": "stdout",
     "output_type": "stream",
     "text": [
      "[ 0  1  1  2  3  5  8 13 21 34]\n"
     ]
    }
   ],
   "source": [
    "rank_1_tensor = tf.constant([0, 1, 1, 2, 3, 5, 8, 13, 21, 34])\n",
    "print(rank_1_tensor.numpy())"
   ]
  },
  {
   "cell_type": "markdown",
   "id": "4a75d260",
   "metadata": {},
   "source": [
    "- Indexing with a scalar removes the axis:"
   ]
  },
  {
   "cell_type": "code",
   "execution_count": 109,
   "id": "1d0cfcf7",
   "metadata": {},
   "outputs": [
    {
     "name": "stdout",
     "output_type": "stream",
     "text": [
      "First: 0\n",
      "Second: 1\n",
      "Last: 34\n"
     ]
    }
   ],
   "source": [
    "print(\"First:\", rank_1_tensor[0].numpy())\n",
    "print(\"Second:\", rank_1_tensor[1].numpy())\n",
    "print(\"Last:\", rank_1_tensor[-1].numpy())"
   ]
  },
  {
   "cell_type": "markdown",
   "id": "00b573c7",
   "metadata": {},
   "source": [
    "- Indexing with a : slice keeps the axis:"
   ]
  },
  {
   "cell_type": "code",
   "execution_count": 112,
   "id": "46046d4d",
   "metadata": {},
   "outputs": [
    {
     "name": "stdout",
     "output_type": "stream",
     "text": [
      "Everything: [ 0  1  1  2  3  5  8 13 21 34]\n",
      "Before 4: [0 1 1 2]\n",
      "From 4 to the end: [ 3  5  8 13 21 34]\n",
      "From 2, before 7: [1 2 3 5 8]\n",
      "Every other item: [ 0  1  3  8 21]\n",
      "Reversed: [34 21 13  8  5  3  2  1  1  0]\n"
     ]
    }
   ],
   "source": [
    "print(\"Everything:\", rank_1_tensor[:].numpy())\n",
    "print(\"Before 4:\", rank_1_tensor[:4].numpy())\n",
    "print(\"From 4 to the end:\", rank_1_tensor[4:].numpy())\n",
    "print(\"From 2, before 7:\", rank_1_tensor[2:7].numpy())\n",
    "print(\"Every other item:\", rank_1_tensor[::2].numpy())\n",
    "print(\"Reversed:\", rank_1_tensor[::-1].numpy())"
   ]
  },
  {
   "cell_type": "markdown",
   "id": "bf8bdbb8",
   "metadata": {},
   "source": [
    "### Multi Axis Indexing"
   ]
  },
  {
   "cell_type": "code",
   "execution_count": 125,
   "id": "5009cc96",
   "metadata": {},
   "outputs": [
    {
     "name": "stdout",
     "output_type": "stream",
     "text": [
      "[[1. 0. 0.]\n",
      " [0. 1. 0.]\n",
      " [0. 0. 1.]]\n"
     ]
    }
   ],
   "source": [
    "print(rank_2_tensor.numpy())"
   ]
  },
  {
   "cell_type": "code",
   "execution_count": 126,
   "id": "316da064",
   "metadata": {},
   "outputs": [
    {
     "name": "stdout",
     "output_type": "stream",
     "text": [
      "1.0\n"
     ]
    }
   ],
   "source": [
    "# Pull out a single value from a 2-rank tensor\n",
    "print(rank_2_tensor[1, 1].numpy())"
   ]
  },
  {
   "cell_type": "code",
   "execution_count": 127,
   "id": "0d5f3f15",
   "metadata": {},
   "outputs": [
    {
     "name": "stdout",
     "output_type": "stream",
     "text": [
      "Second row: [0. 1. 0.]\n",
      "Second column: [0. 1. 0.]\n",
      "Last row: [0. 0. 1.]\n",
      "First item in last column: 0.0\n",
      "Skip the first row:\n",
      "[[0. 1. 0.]\n",
      " [0. 0. 1.]] \n",
      "\n"
     ]
    }
   ],
   "source": [
    "# Get row and column tensors\n",
    "print(\"Second row:\", rank_2_tensor[1, :].numpy())\n",
    "print(\"Second column:\", rank_2_tensor[:, 1].numpy())\n",
    "print(\"Last row:\", rank_2_tensor[-1, :].numpy())\n",
    "print(\"First item in last column:\", rank_2_tensor[0, -1].numpy())\n",
    "print(\"Skip the first row:\")\n",
    "print(rank_2_tensor[1:, :].numpy(), \"\\n\")"
   ]
  },
  {
   "cell_type": "markdown",
   "id": "d9c1a5a3",
   "metadata": {},
   "source": [
    "## Manipulating Shapes"
   ]
  },
  {
   "cell_type": "code",
   "execution_count": null,
   "id": "d703d750",
   "metadata": {},
   "outputs": [],
   "source": []
  },
  {
   "cell_type": "markdown",
   "id": "bd5b5fff",
   "metadata": {},
   "source": [
    "## Sptring"
   ]
  },
  {
   "cell_type": "code",
   "execution_count": 141,
   "id": "bb132f85",
   "metadata": {},
   "outputs": [
    {
     "name": "stdout",
     "output_type": "stream",
     "text": [
      "tf.Tensor(b'Gray wolf', shape=(), dtype=string)\n"
     ]
    }
   ],
   "source": [
    "# Tensors can be strings, too here is a scalar string.\n",
    "scalar_string_tensor = tf.constant(\"Gray wolf\")\n",
    "print(scalar_string_tensor)"
   ]
  },
  {
   "cell_type": "code",
   "execution_count": 142,
   "id": "8be9aaad",
   "metadata": {},
   "outputs": [
    {
     "name": "stdout",
     "output_type": "stream",
     "text": [
      "tf.Tensor([b'Gray wolf' b'Quick brown fox' b'Lazy dog'], shape=(3,), dtype=string)\n"
     ]
    }
   ],
   "source": [
    "# If you have three string tensors of different lengths, this is OK.\n",
    "tensor_of_strings = tf.constant([\"Gray wolf\",\n",
    "                                 \"Quick brown fox\",\n",
    "                                 \"Lazy dog\"])\n",
    "# Note that the shape is (3,). The string length is not included.\n",
    "print(tensor_of_strings)"
   ]
  },
  {
   "cell_type": "code",
   "execution_count": 144,
   "id": "b629e153",
   "metadata": {},
   "outputs": [
    {
     "data": {
      "text/plain": [
       "<tf.Tensor: shape=(), dtype=string, numpy=b'\\xf0\\x9f\\xa5\\xb3\\xf0\\x9f\\x91\\x8d'>"
      ]
     },
     "execution_count": 144,
     "metadata": {},
     "output_type": "execute_result"
    }
   ],
   "source": [
    "#If you pass unicode characters they are utf-8 encoded.\n",
    "\n",
    "tf.constant(\"🥳👍\")"
   ]
  },
  {
   "cell_type": "code",
   "execution_count": 145,
   "id": "e9008b2d",
   "metadata": {},
   "outputs": [
    {
     "name": "stdout",
     "output_type": "stream",
     "text": [
      "tf.Tensor([b'Gray' b'wolf'], shape=(2,), dtype=string)\n",
      "<tf.RaggedTensor [[b'Gray', b'wolf'], [b'Quick', b'brown', b'fox'], [b'Lazy', b'dog']]>\n"
     ]
    }
   ],
   "source": [
    "# You can use split to split a string into a set of tensors\n",
    "print(tf.strings.split(scalar_string_tensor, sep=\" \"))\n",
    "# ...but it turns into a `RaggedTensor` if you split up a tensor of strings,\n",
    "# as each string might be split into a different number of parts.\n",
    "print(tf.strings.split(tensor_of_strings))"
   ]
  },
  {
   "cell_type": "code",
   "execution_count": 137,
   "id": "4d9841f6",
   "metadata": {},
   "outputs": [
    {
     "name": "stdout",
     "output_type": "stream",
     "text": [
      "tf.Tensor([  1.  10. 100.], shape=(3,), dtype=float32)\n"
     ]
    }
   ],
   "source": [
    "text = tf.constant(\"1 10 100\")\n",
    "print(tf.strings.to_number(tf.strings.split(text, \" \")))"
   ]
  },
  {
   "cell_type": "code",
   "execution_count": 138,
   "id": "a3d5d6b9",
   "metadata": {},
   "outputs": [
    {
     "name": "stdout",
     "output_type": "stream",
     "text": [
      "Byte strings: tf.Tensor([b'D' b'u' b'c' b'k'], shape=(4,), dtype=string)\n",
      "Bytes: tf.Tensor([ 68 117  99 107], shape=(4,), dtype=uint8)\n"
     ]
    }
   ],
   "source": [
    "byte_strings = tf.strings.bytes_split(tf.constant(\"Duck\"))\n",
    "byte_ints = tf.io.decode_raw(tf.constant(\"Duck\"), tf.uint8)\n",
    "print(\"Byte strings:\", byte_strings)\n",
    "print(\"Bytes:\", byte_ints)"
   ]
  },
  {
   "cell_type": "code",
   "execution_count": 140,
   "id": "2f873b35",
   "metadata": {},
   "outputs": [
    {
     "name": "stdout",
     "output_type": "stream",
     "text": [
      "\n",
      "Unicode bytes: tf.Tensor(b'\\xe3\\x82\\xa2\\xe3\\x83\\x92\\xe3\\x83\\xab \\xf0\\x9f\\xa6\\x86', shape=(), dtype=string)\n",
      "\n",
      "Unicode chars: tf.Tensor([b'\\xe3\\x82\\xa2' b'\\xe3\\x83\\x92' b'\\xe3\\x83\\xab' b' ' b'\\xf0\\x9f\\xa6\\x86'], shape=(5,), dtype=string)\n",
      "\n",
      "Unicode values: tf.Tensor([ 12450  12498  12523     32 129414], shape=(5,), dtype=int32)\n"
     ]
    }
   ],
   "source": [
    "# Or split it up as unicode and then decode it\n",
    "unicode_bytes = tf.constant(\"アヒル 🦆\")\n",
    "unicode_char_bytes = tf.strings.unicode_split(unicode_bytes, \"UTF-8\")\n",
    "unicode_values = tf.strings.unicode_decode(unicode_bytes, \"UTF-8\")\n",
    "\n",
    "print(\"\\nUnicode bytes:\", unicode_bytes)\n",
    "print(\"\\nUnicode chars:\", unicode_char_bytes)\n",
    "print(\"\\nUnicode values:\", unicode_values)"
   ]
  },
  {
   "cell_type": "markdown",
   "id": "61ec1233",
   "metadata": {},
   "source": [
    "## Sparse Tensors"
   ]
  },
  {
   "cell_type": "markdown",
   "id": "3d470a0c",
   "metadata": {},
   "source": [
    "- ` tf.SparseTensor`"
   ]
  },
  {
   "cell_type": "code",
   "execution_count": 146,
   "id": "3a4ef0f9",
   "metadata": {},
   "outputs": [
    {
     "name": "stdout",
     "output_type": "stream",
     "text": [
      "SparseTensor(indices=tf.Tensor(\n",
      "[[0 0]\n",
      " [1 2]], shape=(2, 2), dtype=int64), values=tf.Tensor([1 2], shape=(2,), dtype=int32), dense_shape=tf.Tensor([3 4], shape=(2,), dtype=int64)) \n",
      "\n",
      "tf.Tensor(\n",
      "[[1 0 0 0]\n",
      " [0 0 2 0]\n",
      " [0 0 0 0]], shape=(3, 4), dtype=int32)\n"
     ]
    }
   ],
   "source": [
    "# Sparse tensors store values by index in a memory-efficient manner\n",
    "sparse_tensor = tf.sparse.SparseTensor(indices=[[0, 0], [1, 2]],\n",
    "                                       values=[1, 2],\n",
    "                                       dense_shape=[3, 4])\n",
    "print(sparse_tensor, \"\\n\")\n",
    "\n",
    "# You can convert sparse tensors to dense\n",
    "print(tf.sparse.to_dense(sparse_tensor))"
   ]
  }
 ],
 "metadata": {
  "kernelspec": {
   "display_name": "Python 3 (ipykernel)",
   "language": "python",
   "name": "python3"
  },
  "language_info": {
   "codemirror_mode": {
    "name": "ipython",
    "version": 3
   },
   "file_extension": ".py",
   "mimetype": "text/x-python",
   "name": "python",
   "nbconvert_exporter": "python",
   "pygments_lexer": "ipython3",
   "version": "3.10.9"
  }
 },
 "nbformat": 4,
 "nbformat_minor": 5
}
