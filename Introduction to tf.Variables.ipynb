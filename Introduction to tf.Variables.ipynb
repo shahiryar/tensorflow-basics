{
 "cells": [
  {
   "cell_type": "markdown",
   "id": "db13fd5e",
   "metadata": {},
   "source": [
    "# Introduction to Variables "
   ]
  },
  {
   "cell_type": "markdown",
   "id": "b9e29e4c",
   "metadata": {},
   "source": [
    "- A tensorflow variable is the recommended way to represent shared and presistent state a program manipulates.\n",
    "- This notebook covers how to create, update, and manage the instances of tf.Variable in Tensorflow\n",
    "- `tf.Variable` class can be used to create and track the variables\n",
    "- _ops_ update and operate on the values\n",
    "- high-level modules like Keras use variables to store trainable parameters of a model"
   ]
  },
  {
   "cell_type": "code",
   "execution_count": 2,
   "id": "c6e8c2d6",
   "metadata": {},
   "outputs": [],
   "source": [
    "import tensorflow as tf"
   ]
  },
  {
   "cell_type": "code",
   "execution_count": 4,
   "id": "c1f21153",
   "metadata": {},
   "outputs": [],
   "source": [
    "my_tensor = tf.constant([[1.0, 2.0], [3.0, 4.0]])\n",
    "my_variable = tf.Variable(my_tensor)\n",
    "\n",
    "# Variables can be all kinds of types, just like tensors\n",
    "bool_variable = tf.Variable([False, False, False, True])\n",
    "complex_variable = tf.Variable([5 + 4j, 6 + 1j])"
   ]
  },
  {
   "cell_type": "markdown",
   "id": "f28a63df",
   "metadata": {},
   "source": [
    "A variable looks and acts like a tensor, and, in fact, is a data structure backed by a tf.Tensor. Like tensors, they have a dtype and a shape, and can be exported to NumPy."
   ]
  },
  {
   "cell_type": "code",
   "execution_count": 5,
   "id": "55e93a58",
   "metadata": {},
   "outputs": [
    {
     "name": "stdout",
     "output_type": "stream",
     "text": [
      "Shape:  (2, 2)\n",
      "DType:  <dtype: 'float32'>\n",
      "As NumPy:  [[1. 2.]\n",
      " [3. 4.]]\n"
     ]
    }
   ],
   "source": [
    "print(\"Shape: \", my_variable.shape)\n",
    "print(\"DType: \", my_variable.dtype)\n",
    "print(\"As NumPy: \", my_variable.numpy())"
   ]
  },
  {
   "cell_type": "code",
   "execution_count": 6,
   "id": "4ad9dba7",
   "metadata": {},
   "outputs": [
    {
     "name": "stdout",
     "output_type": "stream",
     "text": [
      "A variable: <tf.Variable 'Variable:0' shape=(2, 2) dtype=float32, numpy=\n",
      "array([[1., 2.],\n",
      "       [3., 4.]], dtype=float32)>\n",
      "\n",
      "Viewed as a tensor: tf.Tensor(\n",
      "[[1. 2.]\n",
      " [3. 4.]], shape=(2, 2), dtype=float32)\n",
      "\n",
      "Index of highest value: tf.Tensor([1 1], shape=(2,), dtype=int64)\n",
      "\n",
      "Copying and reshaping:  tf.Tensor([[1. 2. 3. 4.]], shape=(1, 4), dtype=float32)\n"
     ]
    }
   ],
   "source": [
    "print(\"A variable:\", my_variable)\n",
    "print(\"\\nViewed as a tensor:\", tf.convert_to_tensor(my_variable))\n",
    "print(\"\\nIndex of highest value:\", tf.math.argmax(my_variable))\n",
    "\n",
    "# This creates a new tensor; it does not reshape the variable.\n",
    "print(\"\\nCopying and reshaping: \", tf.reshape(my_variable, [1,4]))"
   ]
  },
  {
   "cell_type": "markdown",
   "id": "a391ddba",
   "metadata": {},
   "source": [
    "`assign` method could be called on a variable to reassign value: no new memory location is assigned the previous memory location is used, which is why `assign` only takes in a tensor of similary size and shape"
   ]
  },
  {
   "cell_type": "code",
   "execution_count": 14,
   "id": "ce865d9a",
   "metadata": {},
   "outputs": [
    {
     "name": "stdout",
     "output_type": "stream",
     "text": [
      "ValueError : Cannot assign value to variable ' Variable:0': Shape mismatch.The variable shape (2,), and the assigned value shape (3,) are incompatible.\n"
     ]
    }
   ],
   "source": [
    "a = tf.Variable(tf.constant([1., 4.]))\n",
    "\n",
    "#assigning a new value to the variable\n",
    "a.assign(tf.constant([3.,6.]))\n",
    "\n",
    "try:\n",
    "    a.assign(tf.constant([1., 3., 5.]))\n",
    "except Exception as e:\n",
    "    print(f\"{type(e).__name__} : {e}\")"
   ]
  },
  {
   "cell_type": "markdown",
   "id": "9f8324e2",
   "metadata": {},
   "source": [
    "If you use a variable like a tensor in operations, you will usually operate on the backing tensor.\n",
    "\n",
    "Creating new variables from existing variables duplicates the backing tensors. Two variables will not share the same memory."
   ]
  },
  {
   "cell_type": "code",
   "execution_count": 23,
   "id": "52c1651d",
   "metadata": {},
   "outputs": [
    {
     "name": "stdout",
     "output_type": "stream",
     "text": [
      "a: [2. 1.]\n",
      "b: [1. 9.]\n",
      "\n",
      "[3. 2.]\n",
      "[ 4. 11.]\n"
     ]
    }
   ],
   "source": [
    "a = tf.Variable([1., 9.])\n",
    "\n",
    "#create new variable based on a\n",
    "b = tf.Variable(a) # a backing tensor\n",
    "a.assign([2, 1])\n",
    "\n",
    "print(f\"a: {a.numpy()}\")\n",
    "print(f\"b: {b.numpy()}\\n\")\n",
    "\n",
    "print(f\"{a.assign_sub([-1, -1]).numpy()}\")\n",
    "print(f\"{b.assign_add(a).numpy()}\")"
   ]
  },
  {
   "cell_type": "markdown",
   "id": "60a34d39",
   "metadata": {},
   "source": [
    "## Life Cycle, Naming, and Watching"
   ]
  },
  {
   "cell_type": "code",
   "execution_count": 28,
   "id": "fb256ed8",
   "metadata": {},
   "outputs": [
    {
     "name": "stdout",
     "output_type": "stream",
     "text": [
      "tf.Tensor(\n",
      "[[False False]\n",
      " [False False]], shape=(2, 2), dtype=bool)\n"
     ]
    }
   ],
   "source": [
    "# Create a and b; they will have the same name but will be backed by\n",
    "# different tensors.\n",
    "a = tf.Variable(my_tensor, name=\"Mark\")\n",
    "# A new variable with the same name, but different value\n",
    "# Note that the scalar add is broadcast\n",
    "b = tf.Variable(my_tensor + 1, name=\"Mark\")\n",
    "\n",
    "# These are elementwise-unequal, despite having the same name\n",
    "print(a == b)"
   ]
  },
  {
   "cell_type": "markdown",
   "id": "c5a5a785",
   "metadata": {},
   "source": [
    "- Variable names are saved and preserved when loading the model\n",
    "- While variables are important for differentiation, some variables will not need differentiation, for such vairables gradient could be turned off by setting the `trainable` parameter to `False`"
   ]
  },
  {
   "cell_type": "code",
   "execution_count": 35,
   "id": "0aaf4aff",
   "metadata": {},
   "outputs": [
    {
     "name": "stdout",
     "output_type": "stream",
     "text": [
      "1\n"
     ]
    }
   ],
   "source": [
    "step_counter = tf.Variable(1, trainable=False)\n",
    "print(step_counter.numpy())"
   ]
  },
  {
   "cell_type": "code",
   "execution_count": 36,
   "id": "f57d784d",
   "metadata": {},
   "outputs": [
    {
     "data": {
      "text/plain": [
       "2"
      ]
     },
     "execution_count": 36,
     "metadata": {},
     "output_type": "execute_result"
    }
   ],
   "source": [
    "step_counter.assign_add(1).numpy()"
   ]
  },
  {
   "cell_type": "markdown",
   "id": "3ecd382b",
   "metadata": {},
   "source": [
    "If you run this notebook on different backends with and without a GPU you will see different logging. Note that logging device placement must be turned on at the start of the session."
   ]
  },
  {
   "cell_type": "code",
   "execution_count": 43,
   "id": "1ceacf3f",
   "metadata": {},
   "outputs": [
    {
     "name": "stdout",
     "output_type": "stream",
     "text": [
      "tf.Tensor(\n",
      "[[22. 28.]\n",
      " [49. 64.]], shape=(2, 2), dtype=float32)\n"
     ]
    }
   ],
   "source": [
    "with tf.device('CPU:100'):\n",
    "\n",
    "  # Create some tensors\n",
    "  a = tf.Variable([[1.0, 2.0, 3.0], [4.0, 5.0, 6.0]])\n",
    "  b = tf.constant([[1.0, 2.0], [3.0, 4.0], [5.0, 6.0]])\n",
    "  c = tf.matmul(a, b)\n",
    "\n",
    "print(c)"
   ]
  },
  {
   "cell_type": "code",
   "execution_count": 44,
   "id": "ea283a51",
   "metadata": {},
   "outputs": [
    {
     "name": "stdout",
     "output_type": "stream",
     "text": [
      "tf.Tensor(\n",
      "[[ 1.  4.  9.]\n",
      " [ 4. 10. 18.]], shape=(2, 3), dtype=float32)\n"
     ]
    }
   ],
   "source": [
    "with tf.device('CPU:0'):\n",
    "  a = tf.Variable([[1.0, 2.0, 3.0], [4.0, 5.0, 6.0]])\n",
    "  b = tf.Variable([[1.0, 2.0, 3.0]])\n",
    "\n",
    "with tf.device('GPU:0'):\n",
    "  # Element-wise multiply\n",
    "  k = a * b\n",
    "\n",
    "print(k)"
   ]
  }
 ],
 "metadata": {
  "kernelspec": {
   "display_name": "Python 3 (ipykernel)",
   "language": "python",
   "name": "python3"
  },
  "language_info": {
   "codemirror_mode": {
    "name": "ipython",
    "version": 3
   },
   "file_extension": ".py",
   "mimetype": "text/x-python",
   "name": "python",
   "nbconvert_exporter": "python",
   "pygments_lexer": "ipython3",
   "version": "3.10.9"
  }
 },
 "nbformat": 4,
 "nbformat_minor": 5
}
